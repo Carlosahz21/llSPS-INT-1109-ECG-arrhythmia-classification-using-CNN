{
 "cells": [
  {
   "cell_type": "code",
   "execution_count": 1,
   "metadata": {},
   "outputs": [],
   "source": [
    "import os\n",
    "os.chdir(\"C:/Users/venkat sai/Desktop/InternshipProject/ECG arrhythmia images\")"
   ]
  },
  {
   "cell_type": "markdown",
   "metadata": {},
   "source": [
    "# Data preprocessing"
   ]
  },
  {
   "cell_type": "code",
   "execution_count": 2,
   "metadata": {},
   "outputs": [
    {
     "name": "stderr",
     "output_type": "stream",
     "text": [
      "Using TensorFlow backend.\n"
     ]
    }
   ],
   "source": [
    "from keras.preprocessing.image import ImageDataGenerator"
   ]
  },
  {
   "cell_type": "code",
   "execution_count": 3,
   "metadata": {},
   "outputs": [],
   "source": [
    "train_datagen = ImageDataGenerator(rescale = 1./255,\n",
    "                                   shear_range = 0.2,\n",
    "                                   zoom_range = 0.4,\n",
    "                                   horizontal_flip = True)\n",
    "\n",
    "test_datagen = ImageDataGenerator(rescale = 1./255)"
   ]
  },
  {
   "cell_type": "code",
   "execution_count": 4,
   "metadata": {},
   "outputs": [
    {
     "name": "stdout",
     "output_type": "stream",
     "text": [
      "Found 2600 images belonging to 5 classes.\n",
      "Found 651 images belonging to 5 classes.\n"
     ]
    }
   ],
   "source": [
    "x_train = train_datagen.flow_from_directory('Training_dataset',\n",
    "                                                 target_size = (64, 64),\n",
    "                                                 batch_size = 32,\n",
    "                                                     class_mode = 'categorical')\n",
    "x_test = test_datagen.flow_from_directory('Test_dataset',\n",
    "                                            target_size = (64, 64),\n",
    "                                            batch_size = 32,\n",
    "                                            class_mode = 'categorical')\n",
    "\n"
   ]
  },
  {
   "cell_type": "markdown",
   "metadata": {},
   "source": [
    "# importing the model building libraries"
   ]
  },
  {
   "cell_type": "code",
   "execution_count": 5,
   "metadata": {},
   "outputs": [],
   "source": [
    "from keras.models import Sequential\n",
    "from keras.layers import Convolution2D\n",
    "from keras.layers import MaxPooling2D\n",
    "from keras.layers import Flatten\n",
    "from keras.layers import Dense"
   ]
  },
  {
   "cell_type": "markdown",
   "metadata": {},
   "source": [
    "# Model initialization"
   ]
  },
  {
   "cell_type": "code",
   "execution_count": 6,
   "metadata": {},
   "outputs": [],
   "source": [
    "model=Sequential()"
   ]
  },
  {
   "cell_type": "markdown",
   "metadata": {},
   "source": [
    "# Adding convolution layers"
   ]
  },
  {
   "cell_type": "code",
   "execution_count": 7,
   "metadata": {},
   "outputs": [],
   "source": [
    "model.add(Convolution2D(48,(3,3),input_shape=(64,64,3),activation=\"relu\"))"
   ]
  },
  {
   "cell_type": "code",
   "execution_count": 8,
   "metadata": {},
   "outputs": [
    {
     "name": "stdout",
     "output_type": "stream",
     "text": [
      "WARNING:tensorflow:From C:\\Users\\venkat sai\\Anaconda3\\lib\\site-packages\\keras\\backend\\tensorflow_backend.py:4070: The name tf.nn.max_pool is deprecated. Please use tf.nn.max_pool2d instead.\n",
      "\n"
     ]
    }
   ],
   "source": [
    "#adding pooling layers\n",
    "model.add(MaxPooling2D(pool_size=(2,2)))"
   ]
  },
  {
   "cell_type": "code",
   "execution_count": 9,
   "metadata": {},
   "outputs": [],
   "source": [
    "#adding Flatten layers\n",
    "model.add(Flatten())"
   ]
  },
  {
   "cell_type": "markdown",
   "metadata": {},
   "source": [
    "# Adding dense layers"
   ]
  },
  {
   "cell_type": "code",
   "execution_count": 10,
   "metadata": {},
   "outputs": [
    {
     "name": "stderr",
     "output_type": "stream",
     "text": [
      "C:\\Users\\venkat sai\\Anaconda3\\lib\\site-packages\\ipykernel_launcher.py:2: UserWarning: Update your `Dense` call to the Keras 2 API: `Dense(activation=\"relu\", units=150, kernel_initializer=\"uniform\")`\n",
      "  \n"
     ]
    }
   ],
   "source": [
    "#hidden layer\n",
    "model.add(Dense(init=\"uniform\",activation=\"relu\",output_dim=150))"
   ]
  },
  {
   "cell_type": "code",
   "execution_count": 11,
   "metadata": {},
   "outputs": [
    {
     "name": "stderr",
     "output_type": "stream",
     "text": [
      "C:\\Users\\venkat sai\\Anaconda3\\lib\\site-packages\\ipykernel_launcher.py:2: UserWarning: Update your `Dense` call to the Keras 2 API: `Dense(activation=\"softmax\", units=5, kernel_initializer=\"uniform\")`\n",
      "  \n"
     ]
    }
   ],
   "source": [
    "#output layer\n",
    "model.add(Dense(init=\"uniform\",activation=\"softmax\",output_dim=5))"
   ]
  },
  {
   "cell_type": "markdown",
   "metadata": {},
   "source": [
    "# Configuring Model"
   ]
  },
  {
   "cell_type": "code",
   "execution_count": 12,
   "metadata": {},
   "outputs": [],
   "source": [
    "model.compile(loss=\"categorical_crossentropy\",optimizer=\"adam\",metrics=[\"accuracy\"])"
   ]
  },
  {
   "cell_type": "code",
   "execution_count": 13,
   "metadata": {},
   "outputs": [
    {
     "data": {
      "text/plain": [
       "{'Fusion_beat': 0,\n",
       " 'Normal_beat': 1,\n",
       " 'Supraventricular_ectopic_beat': 2,\n",
       " 'Unknown_beat': 3,\n",
       " 'Ventricular_ectopic_beat': 4}"
      ]
     },
     "execution_count": 13,
     "metadata": {},
     "output_type": "execute_result"
    }
   ],
   "source": [
    "#class indices\n",
    "x_train.class_indices"
   ]
  },
  {
   "cell_type": "markdown",
   "metadata": {},
   "source": [
    "# Fit model or training model "
   ]
  },
  {
   "cell_type": "code",
   "execution_count": 14,
   "metadata": {
    "scrolled": true
   },
   "outputs": [
    {
     "name": "stdout",
     "output_type": "stream",
     "text": [
      "WARNING:tensorflow:From C:\\Users\\venkat sai\\Anaconda3\\lib\\site-packages\\keras\\backend\\tensorflow_backend.py:422: The name tf.global_variables is deprecated. Please use tf.compat.v1.global_variables instead.\n",
      "\n",
      "Epoch 1/12\n",
      "500/500 [==============================] - 105s 210ms/step - loss: 1.0712 - accuracy: 0.5778 - val_loss: 2.0070 - val_accuracy: 0.2673\n",
      "Epoch 2/12\n",
      "500/500 [==============================] - 88s 175ms/step - loss: 0.6232 - accuracy: 0.7765 - val_loss: 2.1158 - val_accuracy: 0.3195\n",
      "Epoch 3/12\n",
      "500/500 [==============================] - 88s 175ms/step - loss: 0.5272 - accuracy: 0.8131 - val_loss: 1.6473 - val_accuracy: 0.3763\n",
      "Epoch 4/12\n",
      "500/500 [==============================] - 87s 175ms/step - loss: 0.4552 - accuracy: 0.8463 - val_loss: 3.1079 - val_accuracy: 0.3886\n",
      "Epoch 5/12\n",
      "500/500 [==============================] - 86s 173ms/step - loss: 0.3966 - accuracy: 0.8633 - val_loss: 4.0549 - val_accuracy: 0.3917\n",
      "Epoch 6/12\n",
      "500/500 [==============================] - 85s 169ms/step - loss: 0.3326 - accuracy: 0.8834 - val_loss: 2.2939 - val_accuracy: 0.3625\n",
      "Epoch 7/12\n",
      "500/500 [==============================] - 84s 168ms/step - loss: 0.2813 - accuracy: 0.9063 - val_loss: 4.6183 - val_accuracy: 0.3763\n",
      "Epoch 8/12\n",
      "500/500 [==============================] - 84s 167ms/step - loss: 0.2512 - accuracy: 0.9171 - val_loss: 6.2739 - val_accuracy: 0.4132\n",
      "Epoch 9/12\n",
      "500/500 [==============================] - 86s 172ms/step - loss: 0.2295 - accuracy: 0.9226 - val_loss: 5.1283 - val_accuracy: 0.3978\n",
      "Epoch 10/12\n",
      "500/500 [==============================] - 85s 171ms/step - loss: 0.1991 - accuracy: 0.9339 - val_loss: 5.8245 - val_accuracy: 0.3902\n",
      "Epoch 11/12\n",
      "500/500 [==============================] - 86s 172ms/step - loss: 0.1826 - accuracy: 0.9397 - val_loss: 6.0863 - val_accuracy: 0.3656\n",
      "Epoch 12/12\n",
      "500/500 [==============================] - 86s 171ms/step - loss: 0.1599 - accuracy: 0.9462 - val_loss: 5.1089 - val_accuracy: 0.3779\n"
     ]
    },
    {
     "data": {
      "text/plain": [
       "<keras.callbacks.callbacks.History at 0x1f870e71bc8>"
      ]
     },
     "execution_count": 14,
     "metadata": {},
     "output_type": "execute_result"
    }
   ],
   "source": [
    "model.fit_generator(x_train, steps_per_epoch=500, epochs=12,validation_data=x_test)"
   ]
  },
  {
   "cell_type": "code",
   "execution_count": 15,
   "metadata": {},
   "outputs": [],
   "source": [
    "model.save(\"ECG.h5\")"
   ]
  },
  {
   "cell_type": "code",
   "execution_count": null,
   "metadata": {},
   "outputs": [],
   "source": []
  }
 ],
 "metadata": {
  "kernelspec": {
   "display_name": "Python 3",
   "language": "python",
   "name": "python3"
  },
  "language_info": {
   "codemirror_mode": {
    "name": "ipython",
    "version": 3
   },
   "file_extension": ".py",
   "mimetype": "text/x-python",
   "name": "python",
   "nbconvert_exporter": "python",
   "pygments_lexer": "ipython3",
   "version": "3.7.4"
  }
 },
 "nbformat": 4,
 "nbformat_minor": 2
}
