{
 "cells": [
  {
   "cell_type": "code",
   "execution_count": 1,
   "metadata": {},
   "outputs": [
    {
     "name": "stderr",
     "output_type": "stream",
     "text": [
      "Using TensorFlow backend.\n"
     ]
    }
   ],
   "source": [
    "from keras.models import load_model\n",
    "import numpy as np"
   ]
  },
  {
   "cell_type": "code",
   "execution_count": 2,
   "metadata": {},
   "outputs": [
    {
     "name": "stdout",
     "output_type": "stream",
     "text": [
      "WARNING:tensorflow:From C:\\Users\\venkat sai\\Anaconda3\\lib\\site-packages\\keras\\backend\\tensorflow_backend.py:4070: The name tf.nn.max_pool is deprecated. Please use tf.nn.max_pool2d instead.\n",
      "\n",
      "WARNING:tensorflow:From C:\\Users\\venkat sai\\Anaconda3\\lib\\site-packages\\keras\\backend\\tensorflow_backend.py:422: The name tf.global_variables is deprecated. Please use tf.compat.v1.global_variables instead.\n",
      "\n"
     ]
    }
   ],
   "source": [
    "\n",
    "model = load_model('ECG.h5')\n",
    "model.compile(loss='categorical_crossentropy',\n",
    "                      optimizer='adam',\n",
    "                      metrics=['accuracy'])\n",
    "\n",
    "from skimage.transform import resize\n",
    "\n",
    "def detect(frame):\n",
    "    try:\n",
    "        beat_type=['Fusion beat','Normal beat','Supraventricular ectopic beat','unknown beat','Ventricular ectopic beat']\n",
    "        img = resize(frame,(64,64))\n",
    "        img = np.expand_dims(img,axis=0)\n",
    "        if(np.max(img)>1):\n",
    "            img = img/255.0\n",
    "        prediction = model.predict(img)\n",
    "        print(prediction)\n",
    "        prediction = model.predict_classes(img)\n",
    "        print(beat_type[prediction[0]])\n",
    "    except AttributeError:\n",
    "        print(\"shape not found\")\n"
   ]
  },
  {
   "cell_type": "code",
   "execution_count": 3,
   "metadata": {},
   "outputs": [],
   "source": [
    "import cv2"
   ]
  },
  {
   "cell_type": "code",
   "execution_count": 4,
   "metadata": {},
   "outputs": [
    {
     "name": "stdout",
     "output_type": "stream",
     "text": [
      "[[1.1780900e-01 1.4500200e-05 1.7881623e-03 2.1343496e-01 6.6695333e-01]]\n",
      "Ventricular ectopic beat\n"
     ]
    }
   ],
   "source": [
    "path=r'C:\\Users\\venkat sai\\Desktop\\InternshipProject\\ECG arrhythmia images\\Test_dataset\\Ventricular_ectopic_beat\\Efig_63.png'\n",
    "detect(cv2.imread(path))"
   ]
  },
  {
   "cell_type": "code",
   "execution_count": 5,
   "metadata": {},
   "outputs": [
    {
     "name": "stdout",
     "output_type": "stream",
     "text": [
      "[[0.31072676 0.19077691 0.39394188 0.10311592 0.00143858]]\n",
      "Supraventricular ectopic beat\n"
     ]
    }
   ],
   "source": [
    "detect(cv2.imread(\"Afig_36.png\"))"
   ]
  },
  {
   "cell_type": "code",
   "execution_count": 6,
   "metadata": {},
   "outputs": [
    {
     "name": "stdout",
     "output_type": "stream",
     "text": [
      "[[1.03322367e-04 3.95871939e-06 9.97803748e-01 2.08890578e-03\n",
      "  1.13980006e-10]]\n",
      "Supraventricular ectopic beat\n"
     ]
    }
   ],
   "source": [
    "detect(cv2.imread(\"300px-PVC10.jpg\"))"
   ]
  },
  {
   "cell_type": "code",
   "execution_count": 7,
   "metadata": {},
   "outputs": [
    {
     "name": "stdout",
     "output_type": "stream",
     "text": [
      "[[7.5540286e-01 1.1877745e-05 9.6374892e-02 7.9098260e-03 1.4030062e-01]]\n",
      "Fusion beat\n"
     ]
    }
   ],
   "source": [
    "path=r'C:\\Users\\venkat sai\\Desktop\\InternshipProject\\ECG arrhythmia images\\Test_dataset\\Fusion_beat\\Ffig_675.png'\n",
    "detect(cv2.imread(path))"
   ]
  },
  {
   "cell_type": "code",
   "execution_count": 8,
   "metadata": {},
   "outputs": [
    {
     "name": "stdout",
     "output_type": "stream",
     "text": [
      "[[9.6681422e-01 1.3865161e-04 1.0451042e-02 2.2279795e-03 2.0368138e-02]]\n",
      "Fusion beat\n"
     ]
    }
   ],
   "source": [
    "path=r'C:\\Users\\venkat sai\\Desktop\\InternshipProject\\ECG arrhythmia images\\Test_dataset\\Fusion_beat\\Ffig_727.png'\n",
    "detect(cv2.imread(path))"
   ]
  },
  {
   "cell_type": "code",
   "execution_count": 9,
   "metadata": {},
   "outputs": [
    {
     "name": "stdout",
     "output_type": "stream",
     "text": [
      "[[8.5092807e-01 2.6672278e-04 1.0965350e-02 8.3724089e-02 5.4115850e-02]]\n",
      "Fusion beat\n"
     ]
    }
   ],
   "source": [
    "path=r'C:\\Users\\venkat sai\\Desktop\\InternshipProject\\ECG arrhythmia images\\Test_dataset\\Fusion_beat\\Ffig_780.png'\n",
    "detect(cv2.imread(path))"
   ]
  },
  {
   "cell_type": "code",
   "execution_count": 10,
   "metadata": {},
   "outputs": [
    {
     "name": "stdout",
     "output_type": "stream",
     "text": [
      "[[2.2740558e-01 7.5801647e-01 1.0474103e-02 3.7921555e-03 3.1166198e-04]]\n",
      "Normal beat\n"
     ]
    }
   ],
   "source": [
    "path=r'C:\\Users\\venkat sai\\Desktop\\InternshipProject\\ECG arrhythmia images\\Test_dataset\\Normal_beat\\fig_72553.png'\n",
    "detect(cv2.imread(path))"
   ]
  },
  {
   "cell_type": "code",
   "execution_count": 11,
   "metadata": {},
   "outputs": [
    {
     "name": "stdout",
     "output_type": "stream",
     "text": [
      "[[8.3030927e-01 9.0182265e-03 7.1890466e-02 8.8744693e-02 3.7323600e-05]]\n",
      "Fusion beat\n"
     ]
    }
   ],
   "source": [
    "path=r'C:\\Users\\venkat sai\\Desktop\\InternshipProject\\ECG arrhythmia images\\Test_dataset\\Normal_beat\\fig_72578.png'\n",
    "detect(cv2.imread(path))"
   ]
  },
  {
   "cell_type": "code",
   "execution_count": 12,
   "metadata": {},
   "outputs": [
    {
     "name": "stdout",
     "output_type": "stream",
     "text": [
      "[[2.1171920e-01 4.2087107e-04 5.9695777e-02 7.2815186e-01 1.2301514e-05]]\n",
      "unknown beat\n"
     ]
    }
   ],
   "source": [
    "path=r'C:\\Users\\venkat sai\\Desktop\\InternshipProject\\ECG arrhythmia images\\Test_dataset\\Normal_beat\\fig_72508.png'\n",
    "detect(cv2.imread(path))"
   ]
  },
  {
   "cell_type": "code",
   "execution_count": 13,
   "metadata": {},
   "outputs": [
    {
     "name": "stdout",
     "output_type": "stream",
     "text": [
      "[[0.39773312 0.00318633 0.5867468  0.01098223 0.00135154]]\n",
      "Supraventricular ectopic beat\n"
     ]
    }
   ],
   "source": [
    "path=r'C:\\Users\\venkat sai\\Desktop\\InternshipProject\\ECG arrhythmia images\\Test_dataset\\Supraventricular_ectopic_beat\\Afig_2348.png'\n",
    "detect(cv2.imread(path))"
   ]
  },
  {
   "cell_type": "code",
   "execution_count": 14,
   "metadata": {},
   "outputs": [
    {
     "name": "stdout",
     "output_type": "stream",
     "text": [
      "[[0.04875065 0.00213413 0.7592662  0.00928328 0.18056573]]\n",
      "Supraventricular ectopic beat\n"
     ]
    }
   ],
   "source": [
    "path=r'C:\\Users\\venkat sai\\Desktop\\InternshipProject\\ECG arrhythmia images\\Test_dataset\\Supraventricular_ectopic_beat\\Afig_2242.png'\n",
    "detect(cv2.imread(path))"
   ]
  },
  {
   "cell_type": "code",
   "execution_count": 15,
   "metadata": {},
   "outputs": [
    {
     "name": "stdout",
     "output_type": "stream",
     "text": [
      "[[1.6076000e-01 1.3380585e-02 8.1858653e-01 6.0166884e-04 6.6711409e-03]]\n",
      "Supraventricular ectopic beat\n"
     ]
    }
   ],
   "source": [
    "path=r'C:\\Users\\venkat sai\\Desktop\\InternshipProject\\ECG arrhythmia images\\Test_dataset\\Supraventricular_ectopic_beat\\Afig_2358.png'\n",
    "detect(cv2.imread(path))"
   ]
  },
  {
   "cell_type": "code",
   "execution_count": 16,
   "metadata": {},
   "outputs": [
    {
     "name": "stdout",
     "output_type": "stream",
     "text": [
      "[[0.3755698  0.01131522 0.5900268  0.00410575 0.01898242]]\n",
      "Supraventricular ectopic beat\n"
     ]
    }
   ],
   "source": [
    "path=r'C:\\Users\\venkat sai\\Desktop\\InternshipProject\\ECG arrhythmia images\\Test_dataset\\Supraventricular_ectopic_beat\\Afig_2307.png'\n",
    "detect(cv2.imread(path))"
   ]
  },
  {
   "cell_type": "code",
   "execution_count": 17,
   "metadata": {},
   "outputs": [
    {
     "name": "stdout",
     "output_type": "stream",
     "text": [
      "[[9.9829668e-01 8.8875513e-06 7.5860874e-04 3.3122330e-04 6.0449389e-04]]\n",
      "Fusion beat\n"
     ]
    }
   ],
   "source": [
    "path=r'C:\\Users\\venkat sai\\Desktop\\InternshipProject\\ECG arrhythmia images\\Test_dataset\\Unknown_beat\\pfig_31203969.png'\n",
    "detect(cv2.imread(path))"
   ]
  },
  {
   "cell_type": "code",
   "execution_count": 18,
   "metadata": {},
   "outputs": [
    {
     "name": "stdout",
     "output_type": "stream",
     "text": [
      "[[5.4330733e-02 6.2337626e-06 1.6919837e-03 5.0671947e-01 4.3725160e-01]]\n",
      "unknown beat\n"
     ]
    }
   ],
   "source": [
    "path=r'C:\\Users\\venkat sai\\Desktop\\InternshipProject\\ECG arrhythmia images\\Test_dataset\\Ventricular_ectopic_beat\\Efig_60.png'\n",
    "detect(cv2.imread(path))"
   ]
  },
  {
   "cell_type": "code",
   "execution_count": 19,
   "metadata": {},
   "outputs": [
    {
     "name": "stdout",
     "output_type": "stream",
     "text": [
      "[[1.1780900e-01 1.4500200e-05 1.7881623e-03 2.1343496e-01 6.6695333e-01]]\n",
      "Ventricular ectopic beat\n"
     ]
    }
   ],
   "source": [
    "path=r'C:\\Users\\venkat sai\\Desktop\\InternshipProject\\ECG arrhythmia images\\Test_dataset\\Ventricular_ectopic_beat\\Efig_63.png'\n",
    "detect(cv2.imread(path))"
   ]
  },
  {
   "cell_type": "code",
   "execution_count": null,
   "metadata": {},
   "outputs": [],
   "source": []
  }
 ],
 "metadata": {
  "kernelspec": {
   "display_name": "Python 3",
   "language": "python",
   "name": "python3"
  },
  "language_info": {
   "codemirror_mode": {
    "name": "ipython",
    "version": 3
   },
   "file_extension": ".py",
   "mimetype": "text/x-python",
   "name": "python",
   "nbconvert_exporter": "python",
   "pygments_lexer": "ipython3",
   "version": "3.7.4"
  }
 },
 "nbformat": 4,
 "nbformat_minor": 2
}
