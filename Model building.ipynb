{
 "cells": [
  {
   "cell_type": "code",
   "execution_count": 1,
   "metadata": {},
   "outputs": [],
   "source": [
    "import os\n",
    "os.chdir(\"C:/Users/venkat sai/Desktop/InternshipProject/ECG arrhythmia images\")"
   ]
  },
  {
   "cell_type": "markdown",
   "metadata": {},
   "source": [
    "# Data preprocessing"
   ]
  },
  {
   "cell_type": "code",
   "execution_count": 2,
   "metadata": {},
   "outputs": [
    {
     "name": "stderr",
     "output_type": "stream",
     "text": [
      "Using TensorFlow backend.\n"
     ]
    }
   ],
   "source": [
    "from keras.preprocessing.image import ImageDataGenerator"
   ]
  },
  {
   "cell_type": "code",
   "execution_count": 3,
   "metadata": {},
   "outputs": [],
   "source": [
    "train_datagen = ImageDataGenerator(rescale = 1./255,\n",
    "                                   shear_range = 0.2,\n",
    "                                   zoom_range = 0.4,\n",
    "                                   horizontal_flip = True)\n",
    "\n",
    "test_datagen = ImageDataGenerator(rescale = 1./255)"
   ]
  },
  {
   "cell_type": "code",
   "execution_count": 4,
   "metadata": {},
   "outputs": [
    {
     "name": "stdout",
     "output_type": "stream",
     "text": [
      "Found 2600 images belonging to 5 classes.\n",
      "Found 651 images belonging to 5 classes.\n"
     ]
    }
   ],
   "source": [
    "x_train = train_datagen.flow_from_directory('Training_dataset',\n",
    "                                                 target_size = (64, 64),\n",
    "                                                 batch_size = 32,\n",
    "                                                     class_mode = 'categorical')\n",
    "x_test = test_datagen.flow_from_directory('Test_dataset',\n",
    "                                            target_size = (64, 64),\n",
    "                                            batch_size = 32,\n",
    "                                            class_mode = 'categorical')\n",
    "\n"
   ]
  },
  {
   "cell_type": "markdown",
   "metadata": {},
   "source": [
    "# importing the model building libraries"
   ]
  },
  {
   "cell_type": "code",
   "execution_count": 5,
   "metadata": {},
   "outputs": [],
   "source": [
    "from keras.models import Sequential\n",
    "from keras.layers import Convolution2D\n",
    "from keras.layers import MaxPooling2D\n",
    "from keras.layers import Flatten\n",
    "from keras.layers import Dense"
   ]
  },
  {
   "cell_type": "markdown",
   "metadata": {},
   "source": [
    "# Model initialization"
   ]
  },
  {
   "cell_type": "code",
   "execution_count": 6,
   "metadata": {},
   "outputs": [],
   "source": [
    "model=Sequential()"
   ]
  },
  {
   "cell_type": "markdown",
   "metadata": {},
   "source": [
    "# Adding convolution layers"
   ]
  },
  {
   "cell_type": "code",
   "execution_count": 7,
   "metadata": {},
   "outputs": [],
   "source": [
    "model.add(Convolution2D(48,(3,3),input_shape=(64,64,3),activation=\"relu\"))"
   ]
  },
  {
   "cell_type": "code",
   "execution_count": 8,
   "metadata": {},
   "outputs": [
    {
     "name": "stdout",
     "output_type": "stream",
     "text": [
      "WARNING:tensorflow:From C:\\Users\\venkat sai\\Anaconda3\\lib\\site-packages\\keras\\backend\\tensorflow_backend.py:4070: The name tf.nn.max_pool is deprecated. Please use tf.nn.max_pool2d instead.\n",
      "\n"
     ]
    }
   ],
   "source": [
    "#adding pooling layers\n",
    "model.add(MaxPooling2D(pool_size=(2,2)))"
   ]
  },
  {
   "cell_type": "code",
   "execution_count": 9,
   "metadata": {},
   "outputs": [],
   "source": [
    "#adding Flatten layers\n",
    "model.add(Flatten())"
   ]
  },
  {
   "cell_type": "markdown",
   "metadata": {},
   "source": [
    "# Adding dense layers"
   ]
  },
  {
   "cell_type": "code",
   "execution_count": 10,
   "metadata": {},
   "outputs": [
    {
     "name": "stderr",
     "output_type": "stream",
     "text": [
      "C:\\Users\\venkat sai\\Anaconda3\\lib\\site-packages\\ipykernel_launcher.py:2: UserWarning: Update your `Dense` call to the Keras 2 API: `Dense(activation=\"relu\", units=150, kernel_initializer=\"uniform\")`\n",
      "  \n"
     ]
    }
   ],
   "source": [
    "#hidden layer\n",
    "model.add(Dense(init=\"uniform\",activation=\"relu\",output_dim=150))"
   ]
  },
  {
   "cell_type": "code",
   "execution_count": 11,
   "metadata": {},
   "outputs": [
    {
     "name": "stderr",
     "output_type": "stream",
     "text": [
      "C:\\Users\\venkat sai\\Anaconda3\\lib\\site-packages\\ipykernel_launcher.py:2: UserWarning: Update your `Dense` call to the Keras 2 API: `Dense(activation=\"softmax\", units=5, kernel_initializer=\"uniform\")`\n",
      "  \n"
     ]
    }
   ],
   "source": [
    "#output layer\n",
    "model.add(Dense(init=\"uniform\",activation=\"softmax\",output_dim=5))"
   ]
  },
  {
   "cell_type": "markdown",
   "metadata": {},
   "source": [
    "# Configuring Model"
   ]
  },
  {
   "cell_type": "code",
   "execution_count": 12,
   "metadata": {},
   "outputs": [],
   "source": [
    "model.compile(loss=\"categorical_crossentropy\",optimizer=\"adam\",metrics=[\"accuracy\"])"
   ]
  },
  {
   "cell_type": "code",
   "execution_count": 13,
   "metadata": {},
   "outputs": [
    {
     "data": {
      "text/plain": [
       "{'Fusion_beat': 0,\n",
       " 'Normal_beat': 1,\n",
       " 'Supraventricular_ectopic_beat': 2,\n",
       " 'Unknown_beat': 3,\n",
       " 'Ventricular_ectopic_beat': 4}"
      ]
     },
     "execution_count": 13,
     "metadata": {},
     "output_type": "execute_result"
    }
   ],
   "source": [
    "#class indices\n",
    "x_train.class_indices"
   ]
  },
  {
   "cell_type": "markdown",
   "metadata": {},
   "source": [
    "# Fit model or training model "
   ]
  },
  {
   "cell_type": "code",
   "execution_count": 14,
   "metadata": {
    "scrolled": true
   },
   "outputs": [
    {
     "name": "stdout",
     "output_type": "stream",
     "text": [
      "WARNING:tensorflow:From C:\\Users\\venkat sai\\Anaconda3\\lib\\site-packages\\keras\\backend\\tensorflow_backend.py:422: The name tf.global_variables is deprecated. Please use tf.compat.v1.global_variables instead.\n",
      "\n",
      "Epoch 1/12\n",
      "500/500 [==============================] - 105s 210ms/step - loss: 1.0712 - accuracy: 0.5778 - val_loss: 2.0070 - val_accuracy: 0.2673\n",
      "Epoch 2/12\n",
      "500/500 [==============================] - 88s 175ms/step - loss: 0.6232 - accuracy: 0.7765 - val_loss: 2.1158 - val_accuracy: 0.3195\n",
      "Epoch 3/12\n",
      "500/500 [==============================] - 88s 175ms/step - loss: 0.5272 - accuracy: 0.8131 - val_loss: 1.6473 - val_accuracy: 0.3763\n",
      "Epoch 4/12\n",
      "500/500 [==============================] - 87s 175ms/step - loss: 0.4552 - accuracy: 0.8463 - val_loss: 3.1079 - val_accuracy: 0.3886\n",
      "Epoch 5/12\n",
      "500/500 [==============================] - 86s 173ms/step - loss: 0.3966 - accuracy: 0.8633 - val_loss: 4.0549 - val_accuracy: 0.3917\n",
      "Epoch 6/12\n",
      "500/500 [==============================] - 85s 169ms/step - loss: 0.3326 - accuracy: 0.8834 - val_loss: 2.2939 - val_accuracy: 0.3625\n",
      "Epoch 7/12\n",
      "500/500 [==============================] - 84s 168ms/step - loss: 0.2813 - accuracy: 0.9063 - val_loss: 4.6183 - val_accuracy: 0.3763\n",
      "Epoch 8/12\n",
      "500/500 [==============================] - 84s 167ms/step - loss: 0.2512 - accuracy: 0.9171 - val_loss: 6.2739 - val_accuracy: 0.4132\n",
      "Epoch 9/12\n",
      "500/500 [==============================] - 86s 172ms/step - loss: 0.2295 - accuracy: 0.9226 - val_loss: 5.1283 - val_accuracy: 0.3978\n",
      "Epoch 10/12\n",
      "500/500 [==============================] - 85s 171ms/step - loss: 0.1991 - accuracy: 0.9339 - val_loss: 5.8245 - val_accuracy: 0.3902\n",
      "Epoch 11/12\n",
      "500/500 [==============================] - 86s 172ms/step - loss: 0.1826 - accuracy: 0.9397 - val_loss: 6.0863 - val_accuracy: 0.3656\n",
      "Epoch 12/12\n",
      "500/500 [==============================] - 86s 171ms/step - loss: 0.1599 - accuracy: 0.9462 - val_loss: 5.1089 - val_accuracy: 0.3779\n"
     ]
    },
    {
     "data": {
      "text/plain": [
       "<keras.callbacks.callbacks.History at 0x1f870e71bc8>"
      ]
     },
     "execution_count": 14,
     "metadata": {},
     "output_type": "execute_result"
    }
   ],
   "source": [
    "model.fit_generator(x_train, steps_per_epoch=500, epochs=12,validation_data=x_test)"
   ]
  },
  {
   "cell_type": "code",
   "execution_count": 15,
   "metadata": {},
   "outputs": [],
   "source": [
    "model.save(\"ECG.h5\")"
   ]
  },
  {
   "cell_type": "code",
   "execution_count": 16,
   "metadata": {},
   "outputs": [],
   "source": [
    "from keras.models import load_model\n",
    "import numpy as np"
   ]
  },
  {
   "cell_type": "code",
   "execution_count": 17,
   "metadata": {},
   "outputs": [],
   "source": [
    "\n",
    "model = load_model('ECG.h5')\n",
    "model.compile(loss='categorical_crossentropy',\n",
    "                      optimizer='adam',\n",
    "                      metrics=['accuracy'])\n",
    "\n",
    "from skimage.transform import resize\n",
    "\n",
    "def detect(frame):\n",
    "    try:\n",
    "        beat_type=['Fusion beat','Normal beat','Supraventricular ectopic beat','unknown beat','Ventricular ectopic beat']\n",
    "        img = resize(frame,(64,64))\n",
    "        img = np.expand_dims(img,axis=0)\n",
    "        if(np.max(img)>1):\n",
    "            img = img/255.0\n",
    "        prediction = model.predict(img)\n",
    "        print(prediction)\n",
    "        prediction = model.predict_classes(img)\n",
    "        print(beat_type[prediction[0]])\n",
    "    except AttributeError:\n",
    "        print(\"shape not found\")\n"
   ]
  },
  {
   "cell_type": "code",
   "execution_count": 18,
   "metadata": {},
   "outputs": [],
   "source": [
    "import cv2\n",
    "path=r'C:\\Users\\venkat sai\\Desktop\\InternshipProject\\ECG arrhythmia images\\Test_dataset\\Normal_beat\\fig_72522.png'"
   ]
  },
  {
   "cell_type": "code",
   "execution_count": 19,
   "metadata": {
    "scrolled": false
   },
   "outputs": [
    {
     "name": "stdout",
     "output_type": "stream",
     "text": [
      "[[8.3955085e-01 7.9069622e-02 6.6135600e-02 1.5222409e-02 2.1601621e-05]]\n",
      "Fusion beat\n"
     ]
    }
   ],
   "source": [
    "frame=cv2.imread(path)\n",
    "data=detect(frame)"
   ]
  },
  {
   "cell_type": "code",
   "execution_count": 20,
   "metadata": {},
   "outputs": [
    {
     "name": "stdout",
     "output_type": "stream",
     "text": [
      "[[8.8534391e-01 1.4119419e-08 2.9556299e-04 2.9732203e-03 1.1138722e-01]]\n",
      "Fusion beat\n"
     ]
    }
   ],
   "source": [
    "path=r'C:\\Users\\venkat sai\\Desktop\\InternshipProject\\ECG arrhythmia images\\Test_dataset\\Fusion_beat\\Ffig_686.png'\n",
    "data=detect(cv2.imread(path))"
   ]
  },
  {
   "cell_type": "code",
   "execution_count": 21,
   "metadata": {},
   "outputs": [
    {
     "name": "stdout",
     "output_type": "stream",
     "text": [
      "shape not found\n"
     ]
    }
   ],
   "source": [
    "data=detect(cv2.imread('Afig_2298.png'))"
   ]
  },
  {
   "cell_type": "code",
   "execution_count": 22,
   "metadata": {},
   "outputs": [
    {
     "name": "stdout",
     "output_type": "stream",
     "text": [
      "[[0.40035048 0.00801364 0.5839494  0.0040755  0.00361103]]\n",
      "Supraventricular ectopic beat\n"
     ]
    }
   ],
   "source": [
    "path=r'C:\\Users\\venkat sai\\Desktop\\InternshipProject\\ECG arrhythmia images\\Test_dataset\\Supraventricular_ectopic_beat\\Afig_2289.png'\n",
    "data=detect(cv2.imread(path))"
   ]
  },
  {
   "cell_type": "code",
   "execution_count": 23,
   "metadata": {},
   "outputs": [
    {
     "name": "stdout",
     "output_type": "stream",
     "text": [
      "[[9.9852788e-01 4.2025473e-08 3.1460324e-04 1.0757456e-03 8.1813392e-05]]\n",
      "Fusion beat\n"
     ]
    }
   ],
   "source": [
    "path=r'C:\\Users\\venkat sai\\Desktop\\InternshipProject\\ECG arrhythmia images\\Test_dataset\\Unknown_beat\\pfig_31203998.png'\n",
    "detect(cv2.imread(path))"
   ]
  },
  {
   "cell_type": "code",
   "execution_count": 24,
   "metadata": {},
   "outputs": [
    {
     "name": "stdout",
     "output_type": "stream",
     "text": [
      "[[8.0753785e-01 1.0629938e-03 6.7274667e-02 1.2408304e-01 4.1463521e-05]]\n",
      "Fusion beat\n"
     ]
    }
   ],
   "source": [
    "path=r'C:\\Users\\venkat sai\\Desktop\\InternshipProject\\ECG arrhythmia images\\Test_dataset\\Normal_beat\\fig_72600.png'\n",
    "detect(cv2.imread(path))"
   ]
  },
  {
   "cell_type": "code",
   "execution_count": 25,
   "metadata": {},
   "outputs": [
    {
     "name": "stdout",
     "output_type": "stream",
     "text": [
      "[[9.979955e-01 7.930958e-08 9.539769e-04 6.992992e-05 9.805947e-04]]\n",
      "Fusion beat\n"
     ]
    }
   ],
   "source": [
    "path=r'C:\\Users\\venkat sai\\Downloads\\ventricular_beat.png'\n",
    "detect(cv2.imread(path))"
   ]
  },
  {
   "cell_type": "code",
   "execution_count": 26,
   "metadata": {},
   "outputs": [
    {
     "name": "stdout",
     "output_type": "stream",
     "text": [
      "[[7.6450169e-07 2.2305735e-09 9.9739420e-01 2.6030047e-03 2.0091520e-06]]\n",
      "Supraventricular ectopic beat\n"
     ]
    }
   ],
   "source": [
    "path=r'C:\\Users\\venkat sai\\Downloads\\supraventricular_beat.jpg'\n",
    "detect(cv2.imread(path))"
   ]
  },
  {
   "cell_type": "code",
   "execution_count": 27,
   "metadata": {},
   "outputs": [
    {
     "name": "stdout",
     "output_type": "stream",
     "text": [
      "[[9.979955e-01 7.930958e-08 9.539769e-04 6.992992e-05 9.805947e-04]]\n",
      "Fusion beat\n"
     ]
    }
   ],
   "source": [
    "detect(cv2.imread(\"test1.png\"))"
   ]
  },
  {
   "cell_type": "code",
   "execution_count": null,
   "metadata": {},
   "outputs": [],
   "source": []
  }
 ],
 "metadata": {
  "kernelspec": {
   "display_name": "Python 3",
   "language": "python",
   "name": "python3"
  },
  "language_info": {
   "codemirror_mode": {
    "name": "ipython",
    "version": 3
   },
   "file_extension": ".py",
   "mimetype": "text/x-python",
   "name": "python",
   "nbconvert_exporter": "python",
   "pygments_lexer": "ipython3",
   "version": "3.7.4"
  }
 },
 "nbformat": 4,
 "nbformat_minor": 2
}
